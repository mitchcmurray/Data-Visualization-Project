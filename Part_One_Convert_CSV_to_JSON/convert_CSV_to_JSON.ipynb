{
 "cells": [
  {
   "cell_type": "markdown",
   "id": "f85f3dbc",
   "metadata": {},
   "source": [
    "# PART ONE- Converting CSV Files to JSON files"
   ]
  },
  {
   "cell_type": "code",
   "execution_count": 1,
   "id": "116a28b9",
   "metadata": {},
   "outputs": [],
   "source": [
    "import pandas as pd\n",
    "import os"
   ]
  },
  {
   "cell_type": "code",
   "execution_count": 2,
   "id": "62f1b56e",
   "metadata": {},
   "outputs": [],
   "source": [
    "# List of CSV files\n",
    "csv_files = ['../Project-Three/Resources/Coverage_Gender_Men.csv', '../Project-Three/Resources/Coverage_Gender_Women.csv', '../Project-Three/Resources/Health_Coverage_Income_below100.csv',\n",
    "             '../Project-Three/Resources/Health_Coverage_Income_below200.csv', '../Project-Three/Resources/Health_Coverage_Population.csv', '../Project-Three/Resources/Race_Ethnicity_Employer.csv',\n",
    "             '../Project-Three/Resources/Race_Ethnicity_Medicaid.csv', '../Project-Three/Resources/Race_Ethnicity_Medicare.csv', '../Project-Three/Resources/Race_Ethnicity_Uninsured.csv']\n",
    "for csv_file in csv_files:\n",
    "    # Read CSV file into a DataFrame\n",
    "    df = pd.read_csv(csv_file)\n",
    "    # Customize the JSON file name\n",
    "    json_file_name = os.path.splitext(os.path.basename(csv_file))[0] + '_json.json'\n",
    "    # Convert DataFrame to JSON and save it to a file\n",
    "    json_file_path = os.path.join('../Project-Three/Resources_json', json_file_name)\n",
    "    df.to_json(json_file_path, orient='records', lines=True)"
   ]
  }
 ],
 "metadata": {
  "kernelspec": {
   "display_name": "Python 3 (ipykernel)",
   "language": "python",
   "name": "python3"
  },
  "language_info": {
   "codemirror_mode": {
    "name": "ipython",
    "version": 3
   },
   "file_extension": ".py",
   "mimetype": "text/x-python",
   "name": "python",
   "nbconvert_exporter": "python",
   "pygments_lexer": "ipython3",
   "version": "3.10.13"
  }
 },
 "nbformat": 4,
 "nbformat_minor": 5
}
